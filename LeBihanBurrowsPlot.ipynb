{
 "cells": [
  {
   "cell_type": "code",
   "execution_count": 1,
   "metadata": {},
   "outputs": [],
   "source": [
    "import numpy as np\n",
    "import matplotlib.pyplot as plt\n",
    "import math"
   ]
  },
  {
   "cell_type": "markdown",
   "metadata": {},
   "source": [
    "# The file locations"
   ]
  },
  {
   "cell_type": "code",
   "execution_count": 2,
   "metadata": {},
   "outputs": [],
   "source": [
    "loc10 = '/data/bleblanc/MastersMESA/Jupiter/10Me_core/summary/'\n",
    "loc0 = '/data/bleblanc/MastersMESA/Jupiter/0Me_core/summary/'\n",
    "loc5 = '/data/bleblanc/MastersMESA/Jupiter/5Me_core/summary/'\n",
    "loc7 = '/data/bleblanc/MastersMESA/Jupiter/7Me_core/summary/'"
   ]
  },
  {
   "cell_type": "markdown",
   "metadata": {},
   "source": [
    "# Floor Function"
   ]
  },
  {
   "cell_type": "code",
   "execution_count": 3,
   "metadata": {},
   "outputs": [],
   "source": [
    "def lebihanburrows(arr,v0,l):\n",
    "    x = np.empty(len(arr))\n",
    "    for n in range(len(arr)):\n",
    "        x[n] = arr[n]/v0 - (n - math.floor(l/2))\n",
    "        \n",
    "    return x"
   ]
  },
  {
   "cell_type": "markdown",
   "metadata": {},
   "source": [
    "# Plot"
   ]
  },
  {
   "cell_type": "code",
   "execution_count": 4,
   "metadata": {},
   "outputs": [
    {
     "data": {
      "image/png": "[encoded data removed]",
      "text/plain": [
       "<Figure size 432x288 with 1 Axes>"
      ]
     },
     "metadata": {
      "needs_background": "light"
     },
     "output_type": "display_data"
    }
   ],
   "source": [
    "v0 = 1.55\n",
    "\n",
    "m0core_J_l2 = np.genfromtxt(loc0 + 'Summaryl2_0_edit.txt',usecols=(2),skip_header=6)\n",
    "m5core_J_l2 = np.genfromtxt(loc5 + 'Summaryl2_5_edit.txt',usecols=(2),skip_header=6)\n",
    "m7core_J_l2 = np.genfromtxt(loc7 + 'Summaryl2_7_edit.txt',usecols=(2),skip_header=6)\n",
    "m10core_J_l2_5rho = np.genfromtxt(loc10 + 'Summaryl2_10_edit.txt',usecols=(2),skip_header=6)\n",
    "\n",
    "x0 = lebihanburrows(m0core_J_l2,v0,2) - 1.8\n",
    "x5 = lebihanburrows(m5core_J_l2,v0,2) - 1.8\n",
    "x7 = lebihanburrows(m7core_J_l2,v0,2) - 1.8\n",
    "x10 = lebihanburrows(m10core_J_l2_5rho,v0,2) - 1.8\n",
    "\n",
    "y0 = m0core_J_l2\n",
    "y5 = m5core_J_l2\n",
    "y7 = m7core_J_l2\n",
    "y10 = m10core_J_l2_5rho\n",
    "\n",
    "plt.rcParams.update({'font.size': 12})\n",
    "plt.xticks(fontsize = 14)\n",
    "plt.yticks(fontsize = 14)\n",
    "plt.scatter(x0,y0,c='r',label=r'0 $M_{E}$',marker='x')\n",
    "plt.scatter(x5,y5,c='g',label='5 $M_{E}$',marker='.')\n",
    "plt.scatter(x7,y7,c='b',label='7 $M_{E}$',marker='+')\n",
    "plt.scatter(x10,y10,c='m',label='10 $M_{E}$',marker='1')\n",
    "plt.title('Jupiter l=2', fontsize = 16)        \n",
    "plt.ylabel(r'$\\nu_{n,l}/\\nu_0$', fontsize = 13)\n",
    "plt.xlabel(r'$\\nu_{n,l}/\\nu_0$ - (n - E[l/2])', fontsize = 13)\n",
    "plt.legend()\n",
    "plt.savefig('Jupiter_echelle_l2_edit.pdf')\n",
    "plt.show()"
   ]
  },
  {
   "cell_type": "code",
   "execution_count": null,
   "metadata": {},
   "outputs": [],
   "source": []
  }
 ],
 "metadata": {
  "kernelspec": {
   "display_name": "Python 3",
   "language": "python",
   "name": "python3"
  },
  "language_info": {
   "codemirror_mode": {
    "name": "ipython",
    "version": 3
   },
   "file_extension": ".py",
   "mimetype": "text/x-python",
   "name": "python",
   "nbconvert_exporter": "python",
   "pygments_lexer": "ipython3",
   "version": "3.7.9"
  }
 },
 "nbformat": 4,
 "nbformat_minor": 4
}
